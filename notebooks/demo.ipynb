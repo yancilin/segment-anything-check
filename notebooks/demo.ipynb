{
 "cells": [
  {
   "cell_type": "markdown",
   "source": [
    "# Importing libraries"
   ],
   "metadata": {
    "collapsed": false
   }
  },
  {
   "cell_type": "code",
   "execution_count": null,
   "metadata": {
    "collapsed": true
   },
   "outputs": [],
   "source": [
    "import os\n",
    "import os.path as osp\n",
    "\n",
    "if osp.basename(os.getcwd()) == 'notebooks':\n",
    "    os.chdir('..')\n",
    "\n",
    "import numpy as np\n",
    "import torch\n",
    "import json\n",
    "import matplotlib.pyplot as plt\n",
    "import cv2\n",
    "from collections import defaultdict\n",
    "from typing import Union\n",
    "from segment_anything import sam_model_registry, SamPredictor"
   ]
  },
  {
   "cell_type": "markdown",
   "source": [
    "# Visualization code"
   ],
   "metadata": {
    "collapsed": false
   }
  },
  {
   "cell_type": "code",
   "execution_count": null,
   "outputs": [],
   "source": [
    "def show_mask(mask, ax, random_color=False):\n",
    "    if random_color:\n",
    "        color = np.concatenate([np.random.random(3), np.array([0.6])], axis=0)\n",
    "    else:\n",
    "        color = np.array([30 / 255, 144 / 255, 255 / 255, 0.6])\n",
    "    h, w = mask.shape[-2:]\n",
    "    mask_image = mask.reshape(h, w, 1) * color.reshape(1, 1, -1)\n",
    "    ax.imshow(mask_image)\n",
    "\n",
    "\n",
    "def show_points(coords, labels, ax, marker_size=375):\n",
    "    pos_points = coords[labels == 1]\n",
    "    neg_points = coords[labels == 0]\n",
    "    ax.scatter(pos_points[:, 0], pos_points[:, 1], color='green', marker='*', s=marker_size, edgecolor='white',\n",
    "               linewidth=1.25)\n",
    "    ax.scatter(neg_points[:, 0], neg_points[:, 1], color='red', marker='*', s=marker_size, edgecolor='white',\n",
    "               linewidth=1.25)\n",
    "\n",
    "\n",
    "def show_box(box, ax):\n",
    "    x0, y0 = box[0], box[1]\n",
    "    w, h = box[2] - box[0], box[3] - box[1]\n",
    "    ax.add_patch(plt.Rectangle((x0, y0), w, h, edgecolor='green', facecolor=(0, 0, 0, 0), lw=2))"
   ],
   "metadata": {
    "collapsed": false
   }
  },
  {
   "cell_type": "markdown",
   "source": [
    "Json loading"
   ],
   "metadata": {
    "collapsed": false
   }
  },
  {
   "cell_type": "code",
   "execution_count": null,
   "outputs": [],
   "source": [
    "def anno2mask(anno_list: Union[list, str], h: int, w: int):\n",
    "    \"\"\" 将一个 frame 的 anno 转换成 masks \"\"\"\n",
    "    if isinstance(anno_list, str):\n",
    "        anno_list = json.load(open(anno_list, 'r'))\n",
    "    idx2polys = defaultdict(list)\n",
    "    for anno in anno_list:\n",
    "        idx = anno['group_id']\n",
    "        poly = anno[\"points\"]\n",
    "        idx2polys[idx].append(poly)\n",
    "    idx2mask = {k: polys2mask(v, h, w) for k, v in idx2polys.items()}\n",
    "    return idx2mask\n",
    "\n",
    "\n",
    "def polys2mask(poly_list, h, w):\n",
    "    \"\"\" 异或合并多个 poly 成一个 mask \"\"\"\n",
    "    mask_res = np.zeros((h, w), dtype=np.uint8)\n",
    "    for poly in poly_list:\n",
    "        mask = np.zeros((h, w), dtype=np.uint8)\n",
    "        cv2.fillPoly(mask, np.array([poly], dtype=np.int32), 1)\n",
    "        mask_res = np.logical_xor(mask_res, mask).astype(np.uint8)\n",
    "    return mask_res\n",
    "\n",
    "\n",
    "def read_data(jepg_path: str, anno_path: str, show: bool = False):\n",
    "    image = cv2.imread(jepg_path, cv2.COLOR_BGR2RGB)\n",
    "    h, w = image.shape[:2]\n",
    "    idx2mask = anno2mask(anno_path, h, w)\n",
    "\n",
    "    if show:\n",
    "        for idx, mask in idx2mask.items():\n",
    "            plt.figure(figsize=(10, 10))\n",
    "            plt.imshow(cv2.cvtColor(image, cv2.COLOR_RGB2BGR))\n",
    "            show_mask(mask, plt.gca())\n",
    "            plt.axis('on')\n",
    "            plt.show()\n",
    "\n",
    "    return image, idx2mask"
   ],
   "metadata": {
    "collapsed": false
   }
  },
  {
   "cell_type": "markdown",
   "source": [
    "# demo"
   ],
   "metadata": {
    "collapsed": false
   }
  },
  {
   "cell_type": "code",
   "execution_count": null,
   "outputs": [],
   "source": [
    "sam_checkpoint = '/intern-share/clyan/pretrain/sam/sam_vit_h_4b8939.pth'\n",
    "model_type = \"vit_h\"\n",
    "device = \"cuda\"\n",
    "sam = sam_model_registry[model_type](checkpoint=sam_checkpoint)\n",
    "sam.to(device=device)\n",
    "predictor = SamPredictor(sam)\n",
    "\n",
    "image, idx2mask = read_data(jepg_path='data/mask_test/1-1.jpg', anno_path='data/mask_test/1-1.json')\n",
    "predictor.set_image(image)\n",
    "for idx, mask_ori in idx2mask.items():\n",
    "    # resize mask -> (256, 256)\n",
    "    mask_input = cv2.resize(mask_ori, (256, 256), interpolation=cv2.INTER_NEAREST)\n",
    "    mask_input = mask_input[None, ...]\n",
    "\n",
    "    plt.figure(figsize=(10, 10))\n",
    "    plt.imshow(cv2.cvtColor(image, cv2.COLOR_RGB2BGR))\n",
    "    show_mask(mask_ori, plt.gca())\n",
    "    plt.title(f\"Instance: {idx + 1}, Original\", fontsize=18)\n",
    "    plt.axis('off')\n",
    "    plt.show()\n",
    "\n",
    "    masks, scores, logits = predictor.predict(\n",
    "        mask_input=mask_input,\n",
    "        multimask_output=True,\n",
    "    )\n",
    "    for i, (mask, score) in enumerate(zip(masks, scores)):\n",
    "        plt.figure(figsize=(10, 10))\n",
    "        plt.imshow(cv2.cvtColor(image, cv2.COLOR_RGB2BGR))\n",
    "        show_mask(mask, plt.gca())\n",
    "        plt.title(f\"Instance: {idx + 1}, Mask {i + 1}, Score: {score:.3f}\", fontsize=18)\n",
    "        plt.axis('off')\n",
    "        plt.show()"
   ],
   "metadata": {
    "collapsed": false
   }
  }
 ],
 "metadata": {
  "kernelspec": {
   "display_name": "Python 3",
   "language": "python",
   "name": "python3"
  },
  "language_info": {
   "codemirror_mode": {
    "name": "ipython",
    "version": 2
   },
   "file_extension": ".py",
   "mimetype": "text/x-python",
   "name": "python",
   "nbconvert_exporter": "python",
   "pygments_lexer": "ipython2",
   "version": "2.7.6"
  }
 },
 "nbformat": 4,
 "nbformat_minor": 0
}
